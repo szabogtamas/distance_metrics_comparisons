{
 "cells": [
  {
   "cell_type": "markdown",
   "id": "5cdd1a48",
   "metadata": {},
   "source": [
    "# Generating Jacccard distance matrices efficiently\n",
    "\n",
    "## Setup"
   ]
  },
  {
   "cell_type": "code",
   "execution_count": 1,
   "id": "2b2f4e80",
   "metadata": {},
   "outputs": [],
   "source": [
    "import sys\n",
    "\n",
    "import scipy\n",
    "import umap\n",
    "import pandas as pd\n",
    "\n",
    "from scipy.spatial import distance as scd\n",
    "from sklearn import metrics as skm\n",
    "from matplotlib import pyplot as plt"
   ]
  },
  {
   "cell_type": "code",
   "execution_count": 7,
   "id": "ec2e3524",
   "metadata": {},
   "outputs": [
    {
     "ename": "SyntaxError",
     "evalue": "invalid syntax (input_parser.py, line 11)",
     "output_type": "error",
     "traceback": [
      "Traceback \u001b[0;36m(most recent call last)\u001b[0m:\n",
      "  File \u001b[1;32m\"/usr/local/lib/python3.8/dist-packages/IPython/core/interactiveshell.py\"\u001b[0m, line \u001b[1;32m3441\u001b[0m, in \u001b[1;35mrun_code\u001b[0m\n    exec(code_obj, self.user_global_ns, self.user_ns)\n",
      "  File \u001b[1;32m\"<ipython-input-7-10d2b2f25363>\"\u001b[0m, line \u001b[1;32m3\u001b[0m, in \u001b[1;35m<module>\u001b[0m\n    import similarity_utils as su\n",
      "  File \u001b[1;32m\"/usr/local/dev_scripts/similarity_utils/__init__.py\"\u001b[0m, line \u001b[1;32m1\u001b[0m, in \u001b[1;35m<module>\u001b[0m\n    from . import calculate_jaccard as calculator\n",
      "\u001b[0;36m  File \u001b[0;32m\"/usr/local/dev_scripts/similarity_utils/calculate_jaccard.py\"\u001b[0;36m, line \u001b[0;32m7\u001b[0;36m, in \u001b[0;35m<module>\u001b[0;36m\u001b[0m\n\u001b[0;31m    from . import input_parser\u001b[0m\n",
      "\u001b[0;36m  File \u001b[0;32m\"/usr/local/dev_scripts/similarity_utils/input_parser.py\"\u001b[0;36m, line \u001b[0;32m11\u001b[0m\n\u001b[0;31m    type = str,\u001b[0m\n\u001b[0m    ^\u001b[0m\n\u001b[0;31mSyntaxError\u001b[0m\u001b[0;31m:\u001b[0m invalid syntax\n"
     ]
    }
   ],
   "source": [
    "sys.path.append(\"/usr/local/dev_scripts\")\n",
    "\n",
    "import similarity_utils as su"
   ]
  },
  {
   "cell_type": "markdown",
   "id": "2753f7d4",
   "metadata": {},
   "source": [
    "## Parse input"
   ]
  },
  {
   "cell_type": "code",
   "execution_count": null,
   "id": "07c9a99a",
   "metadata": {},
   "outputs": [],
   "source": [
    "main_df = su.input_parser.read_input(\"/home/rstudio/local_files/example_data/pseudo_tabular_format.csv\")\n",
    "main_df.head()"
   ]
  },
  {
   "cell_type": "markdown",
   "id": "5c53a2c5",
   "metadata": {},
   "source": [
    "## Calculate distances"
   ]
  },
  {
   "cell_type": "code",
   "execution_count": null,
   "id": "8b6ecb29",
   "metadata": {},
   "outputs": [],
   "source": [
    "%time loop_distances = calculate_jaccard(main_df, \"loop\")\n",
    "loop_distances.head()"
   ]
  },
  {
   "cell_type": "code",
   "execution_count": null,
   "id": "ca8f0ba5",
   "metadata": {},
   "outputs": [],
   "source": [
    "%time pandas_distances = calculate_jaccard(main_df, \"pandas\")\n",
    "pandas_distances.head()"
   ]
  },
  {
   "cell_type": "code",
   "execution_count": null,
   "id": "44757556",
   "metadata": {},
   "outputs": [],
   "source": [
    "%time scikit_distances = calculate_jaccard(main_df)\n",
    "scikit_distances.head()"
   ]
  },
  {
   "cell_type": "markdown",
   "id": "07784803",
   "metadata": {},
   "source": [
    "## Visualize results"
   ]
  },
  {
   "cell_type": "code",
   "execution_count": null,
   "id": "243613b7",
   "metadata": {},
   "outputs": [],
   "source": [
    "U = umap.UMAP(metric='precomputed')\n",
    "umap_coords = U.fit_transform(scikit_distances)"
   ]
  }
 ],
 "metadata": {
  "jupytext": {
   "formats": "md,ipynb",
   "text_representation": {
    "extension": ".md",
    "format_name": "markdown",
    "format_version": "1.3",
    "jupytext_version": "1.11.3"
   }
  },
  "kernelspec": {
   "display_name": "Python 3",
   "language": "python",
   "name": "python3"
  },
  "language_info": {
   "codemirror_mode": {
    "name": "ipython",
    "version": 3
   },
   "file_extension": ".py",
   "mimetype": "text/x-python",
   "name": "python",
   "nbconvert_exporter": "python",
   "pygments_lexer": "ipython3",
   "version": "3.8.5"
  }
 },
 "nbformat": 4,
 "nbformat_minor": 5
}
