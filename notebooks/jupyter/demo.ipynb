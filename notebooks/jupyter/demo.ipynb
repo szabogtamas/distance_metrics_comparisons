{
 "cells": [
  {
   "cell_type": "markdown",
   "id": "4d4364df-bac4-4b70-aef8-1a0c5c6ebd1d",
   "metadata": {},
   "source": [
    "# Generating Jacccard distance matrices efficiently"
   ]
  },
  {
   "cell_type": "markdown",
   "id": "42513792-eb88-423b-b467-66d7123ac431",
   "metadata": {},
   "source": [
    "A parallelized appraoch inspired by http://na-o-ys.github.io/others/2015-11-07-sparse-vector-similarities.html"
   ]
  },
  {
   "cell_type": "code",
   "execution_count": 2,
   "id": "faef2b27-6cc4-4504-a3ae-dd78c2793d91",
   "metadata": {},
   "outputs": [],
   "source": [
    "from matplotlib import pyplot as plt\n",
    "import pandas as pd\n",
    "# import scipy.sparse as sp"
   ]
  },
  {
   "cell_type": "code",
   "execution_count": 3,
   "id": "0a91311e-adad-4eeb-add0-112fecd462eb",
   "metadata": {},
   "outputs": [],
   "source": [
    "example_data = dict(\n",
    "    Sample_1 = [\"a\", \"b\", \"c\", \"d\"],\n",
    "    Sample_2 = [\"a\", \"b\", \"c\"],\n",
    "    Sample_3 = [\"c\", \"d\", \"e\", \"f\", \"g\"],\n",
    "    Sample_4 = [\"e\", \"f\", \"g\"],\n",
    ")"
   ]
  },
  {
   "cell_type": "code",
   "execution_count": 6,
   "id": "8ff2d27b-2eff-49ab-bb99-b2a16ad84e3c",
   "metadata": {},
   "outputs": [
    {
     "data": {
      "text/html": [
       "<div>\n",
       "<style scoped>\n",
       "    .dataframe tbody tr th:only-of-type {\n",
       "        vertical-align: middle;\n",
       "    }\n",
       "\n",
       "    .dataframe tbody tr th {\n",
       "        vertical-align: top;\n",
       "    }\n",
       "\n",
       "    .dataframe thead th {\n",
       "        text-align: right;\n",
       "    }\n",
       "</style>\n",
       "<table border=\"1\" class=\"dataframe\">\n",
       "  <thead>\n",
       "    <tr style=\"text-align: right;\">\n",
       "      <th></th>\n",
       "      <th>Sample_1</th>\n",
       "      <th>Sample_2</th>\n",
       "      <th>Sample_3</th>\n",
       "      <th>Sample_4</th>\n",
       "    </tr>\n",
       "  </thead>\n",
       "  <tbody>\n",
       "    <tr>\n",
       "      <th>0</th>\n",
       "      <td>a</td>\n",
       "      <td>a</td>\n",
       "      <td>c</td>\n",
       "      <td>e</td>\n",
       "    </tr>\n",
       "    <tr>\n",
       "      <th>1</th>\n",
       "      <td>b</td>\n",
       "      <td>b</td>\n",
       "      <td>d</td>\n",
       "      <td>f</td>\n",
       "    </tr>\n",
       "    <tr>\n",
       "      <th>2</th>\n",
       "      <td>c</td>\n",
       "      <td>c</td>\n",
       "      <td>e</td>\n",
       "      <td>g</td>\n",
       "    </tr>\n",
       "  </tbody>\n",
       "</table>\n",
       "</div>"
      ],
      "text/plain": [
       "  Sample_1 Sample_2 Sample_3 Sample_4\n",
       "0        a        a        c        e\n",
       "1        b        b        d        f\n",
       "2        c        c        e        g"
      ]
     },
     "execution_count": 6,
     "metadata": {},
     "output_type": "execute_result"
    }
   ],
   "source": [
    "example_df = pd.DataFrame.from_dict(example_data, orient=\"index\").T.dropna()\n",
    "example_df.head()"
   ]
  },
  {
   "cell_type": "code",
   "execution_count": null,
   "id": "e4746849-681b-462a-9e0c-ad4219a6b1bf",
   "metadata": {},
   "outputs": [],
   "source": []
  }
 ],
 "metadata": {
  "kernelspec": {
   "display_name": "Python 3",
   "language": "python",
   "name": "python3"
  },
  "language_info": {
   "codemirror_mode": {
    "name": "ipython",
    "version": 3
   },
   "file_extension": ".py",
   "mimetype": "text/x-python",
   "name": "python",
   "nbconvert_exporter": "python",
   "pygments_lexer": "ipython3",
   "version": "3.8.5"
  }
 },
 "nbformat": 4,
 "nbformat_minor": 5
}
